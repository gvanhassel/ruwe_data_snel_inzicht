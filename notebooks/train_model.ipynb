{
 "cells": [
  {
   "cell_type": "code",
   "execution_count": null,
   "metadata": {},
   "outputs": [],
   "source": [
    "import sys\n",
    "sys.path.append(\"./..\")\n",
    "\n",
    "import tsdb\n",
    "import pandas as pd\n",
    "import numpy as np\n",
    "import torch\n",
    "\n",
    "from sklearn.model_selection import train_test_split\n",
    "from src.data.datatool import DataProcessor\n",
    "\n",
    "pd.set_option('display.max_rows', 100)\n",
    "pd.set_option('display.max_columns', None)\n"
   ]
  },
  {
   "cell_type": "markdown",
   "metadata": {},
   "source": [
    "## Data voorbereiden"
   ]
  },
  {
   "cell_type": "code",
   "execution_count": null,
   "metadata": {},
   "outputs": [
    {
     "name": "stderr",
     "output_type": "stream",
     "text": [
      "2024-12-06 10:28:31 [INFO]: You're using dataset physionet_2012, please cite it properly in your work. You can find its reference information at the below link: \n",
      "https://github.com/WenjieDu/TSDB/tree/main/dataset_profiles/physionet_2012\n",
      "2024-12-06 10:28:31 [INFO]: Dataset physionet_2012 has already been downloaded. Processing directly...\n",
      "2024-12-06 10:28:31 [INFO]: Dataset physionet_2012 has already been cached. Loading from cache directly...\n",
      "2024-12-06 10:28:31 [INFO]: Loaded successfully!\n"
     ]
    },
    {
     "name": "stdout",
     "output_type": "stream",
     "text": [
      "dict_keys(['set-a', 'set-b', 'set-c', 'outcomes-a', 'outcomes-b', 'outcomes-c', 'static_features'])\n",
      "max_wanted_len is langer dan de de aantal timestamps in de data,namelijk: 5000. data heeft max van: 631\n",
      "\n",
      "      Shape van data-tensor torch.Size([3997, 631, 3]) \n",
      "      Aantal cases zijn: 3997\n",
      "      Aantal tijdsobservatie per cases zijn: 631 (NULL wordt gepad)\n",
      "      De meet waarde over de tijd zijn: tijdsmoment, event, waarde\n",
      "\n"
     ]
    }
   ],
   "source": [
    "dataset = 'physionet_2012'\n",
    "data = tsdb.load(dataset)\n",
    "config = {}\n",
    "\n",
    "print(data.keys())\n",
    "\n",
    "df_a  = pd.DataFrame(data['set-a'])\n",
    "df_outcomes_a  = pd.DataFrame(data['outcomes-a']).reset_index()\n",
    "df_static_features  = pd.DataFrame(data['static_features'])\n",
    "\n",
    "id = \"RecordID\"\n",
    "time = \"Time\"\n",
    "target = \"In-hospital_death\"\n",
    "global_features = list(df_static_features.iloc[:,0])\n",
    "\n",
    "\n",
    "processor = DataProcessor(\n",
    "    df=df_a,\n",
    "    df_label=df_outcomes_a,  \n",
    "    id_col=id, \n",
    "    time_col=time,\n",
    "    taget_name=target,\n",
    "    global_features=global_features,\n",
    "    cols_exclude_z_norm=[id, time],\n",
    "    max_wanted_len=5000\n",
    ")\n",
    "\n",
    "\n",
    "d3tensor, label_tensor = processor.get_data()\n",
    "\n",
    "print(f\"\"\"\n",
    "      Shape van data-tensor {d3tensor.shape} \n",
    "      Aantal cases zijn: {d3tensor.shape[0]}\n",
    "      Aantal tijdsobservatie per cases zijn: {d3tensor.shape[1]} (NULL wordt gepad)\n",
    "      De meet waarde over de tijd zijn: tijdsmoment, event, waarde\n",
    "\"\"\")"
   ]
  },
  {
   "cell_type": "markdown",
   "metadata": {},
   "source": [
    "## Algoritme\n",
    "We hebben nu melted_3dtensor en label_tensor als input en labels"
   ]
  },
  {
   "cell_type": "code",
   "execution_count": 4,
   "metadata": {},
   "outputs": [
    {
     "name": "stdout",
     "output_type": "stream",
     "text": [
      "torch.Size([3997, 631, 3]) torch.Size([3997])\n"
     ]
    }
   ],
   "source": [
    "# melted_3dtensor = melted_3dtensor.float()\n",
    "# label_tensor = label_tensor.long()\n",
    "print(d3tensor.size(), label_tensor.size())"
   ]
  },
  {
   "cell_type": "code",
   "execution_count": 22,
   "metadata": {},
   "outputs": [
    {
     "name": "stdout",
     "output_type": "stream",
     "text": [
      "Training set size: 2237\n",
      "Validation set size: 960\n",
      "Test set size: 800\n"
     ]
    }
   ],
   "source": [
    "from sklearn.model_selection import train_test_split\n",
    "\n",
    "# Split the dataset into train, validation, and test sets\n",
    "train_data, test_data, train_labels, test_labels = train_test_split(\n",
    "    d3tensor, label_tensor, test_size=0.2, random_state=42\n",
    ")\n",
    "\n",
    "# Split the train_data further into training and validation sets\n",
    "train_data, val_data, train_labels, val_labels = train_test_split(\n",
    "    train_data, train_labels, test_size=0.3, random_state=42\n",
    ")\n",
    "\n",
    "# Verify the split\n",
    "print(f\"Training set size: {train_data.shape[0]}\")\n",
    "print(f\"Validation set size: {val_data.shape[0]}\")\n",
    "print(f\"Test set size: {test_data.shape[0]}\")"
   ]
  },
  {
   "cell_type": "code",
   "execution_count": 23,
   "metadata": {},
   "outputs": [],
   "source": [
    "import torch\n",
    "import torch.nn as nn\n",
    "\n",
    "class AttentionModel(nn.Module):\n",
    "    def __init__(self, input_dim, hidden_dim, output_dim):\n",
    "        super(AttentionModel, self).__init__()\n",
    "        # Linear layer to process the input sequence into hidden features\n",
    "        self.fc = nn.Linear(input_dim, hidden_dim)\n",
    "        self.relu = nn.ReLU()\n",
    "\n",
    "        # Attention scoring mechanism\n",
    "        self.attention_score = nn.Linear(hidden_dim, 1)\n",
    "\n",
    "        # Output layer to map attention-weighted input to output classes\n",
    "        self.output_layer = nn.Linear(hidden_dim, output_dim)\n",
    "\n",
    "    def forward(self, x):\n",
    "        \"\"\"\n",
    "        x: Tensor of shape (batch_size, seq_length, input_dim)\n",
    "        \"\"\"\n",
    "        # Step 1: Transform input using the first layer\n",
    "        x = self.fc(x)  # (batch_size, seq_length, hidden_dim)\n",
    "        x = self.relu(x)\n",
    "\n",
    "        # Step 2: Compute attention scores\n",
    "        scores = self.attention_score(x)  # (batch_size, seq_length, 1)\n",
    "        scores = torch.softmax(scores, dim=1)  # Normalize scores over sequence length\n",
    "\n",
    "        # Step 3: Compute the weighted sum of inputs using attention scores\n",
    "        weighted_sum = torch.sum(x * scores, dim=1)  # (batch_size, hidden_dim)\n",
    "\n",
    "        # Step 4: Map the weighted sum to output classes\n",
    "        output = self.output_layer(weighted_sum)  # (batch_size, output_dim)\n",
    "\n",
    "        return output\n"
   ]
  },
  {
   "cell_type": "code",
   "execution_count": 24,
   "metadata": {},
   "outputs": [],
   "source": [
    "# Hyperparameters\n",
    "input_dim = train_data.shape[2]  # Number of features in the tensor\n",
    "hidden_dim = 64                       # Hidden layer size\n",
    "output_dim = len(torch.unique(label_tensor))  # Number of output classes\n",
    "\n",
    "# Create the AttentionModel\n",
    "attention_model = AttentionModel(input_dim, hidden_dim, output_dim)\n",
    "criterion = nn.CrossEntropyLoss()  # Use for multi-class classification\n",
    "optimizer = torch.optim.Adam(attention_model.parameters(), lr=0.001)\n"
   ]
  },
  {
   "cell_type": "code",
   "execution_count": null,
   "metadata": {},
   "outputs": [],
   "source": []
  },
  {
   "cell_type": "code",
   "execution_count": 25,
   "metadata": {},
   "outputs": [
    {
     "name": "stdout",
     "output_type": "stream",
     "text": [
      "Epoch 1/50, Train Loss: 30.8664, Val Loss: 12.3585\n",
      "Epoch 2/50, Train Loss: 29.2487, Val Loss: 12.9643\n",
      "Epoch 3/50, Train Loss: 28.7539, Val Loss: 12.6866\n",
      "Epoch 4/50, Train Loss: 28.4447, Val Loss: 12.9057\n",
      "Epoch 5/50, Train Loss: 28.4403, Val Loss: 12.8026\n",
      "Epoch 6/50, Train Loss: 28.3292, Val Loss: 12.6673\n",
      "Epoch 7/50, Train Loss: 28.1938, Val Loss: 12.7037\n",
      "Epoch 8/50, Train Loss: 28.1309, Val Loss: 12.8165\n",
      "Epoch 9/50, Train Loss: 28.0721, Val Loss: 12.7075\n",
      "Epoch 10/50, Train Loss: 28.2023, Val Loss: 12.7638\n",
      "Epoch 11/50, Train Loss: 28.1305, Val Loss: 12.7878\n",
      "Epoch 12/50, Train Loss: 28.0410, Val Loss: 12.8378\n",
      "Epoch 13/50, Train Loss: 28.0996, Val Loss: 12.9230\n",
      "Epoch 14/50, Train Loss: 28.0674, Val Loss: 12.7875\n",
      "Epoch 15/50, Train Loss: 28.0247, Val Loss: 12.8148\n",
      "Epoch 16/50, Train Loss: 28.0689, Val Loss: 12.7479\n",
      "Epoch 17/50, Train Loss: 28.1100, Val Loss: 12.8334\n",
      "Epoch 18/50, Train Loss: 27.9756, Val Loss: 12.5912\n",
      "Epoch 19/50, Train Loss: 27.9711, Val Loss: 12.4856\n",
      "Epoch 20/50, Train Loss: 27.9741, Val Loss: 12.8379\n",
      "Epoch 21/50, Train Loss: 28.0781, Val Loss: 12.2198\n",
      "Epoch 22/50, Train Loss: 27.8776, Val Loss: 12.6221\n",
      "Epoch 23/50, Train Loss: 27.8474, Val Loss: 12.7830\n",
      "Epoch 24/50, Train Loss: 27.7514, Val Loss: 12.7925\n",
      "Epoch 25/50, Train Loss: 27.9129, Val Loss: 12.9182\n",
      "Epoch 26/50, Train Loss: 27.8211, Val Loss: 12.7914\n",
      "Epoch 27/50, Train Loss: 27.6056, Val Loss: 12.9253\n",
      "Epoch 28/50, Train Loss: 27.4391, Val Loss: 12.6788\n",
      "Epoch 29/50, Train Loss: 27.5348, Val Loss: 12.6832\n",
      "Epoch 30/50, Train Loss: 27.5302, Val Loss: 12.7017\n",
      "Epoch 31/50, Train Loss: 27.5189, Val Loss: 12.6961\n",
      "Epoch 32/50, Train Loss: 27.4245, Val Loss: 12.7226\n",
      "Epoch 33/50, Train Loss: 27.4484, Val Loss: 12.6133\n",
      "Epoch 34/50, Train Loss: 27.4177, Val Loss: 12.8452\n",
      "Epoch 35/50, Train Loss: 27.3586, Val Loss: 12.7491\n",
      "Epoch 36/50, Train Loss: 27.2622, Val Loss: 12.6487\n",
      "Epoch 37/50, Train Loss: 27.0654, Val Loss: 12.8058\n",
      "Epoch 38/50, Train Loss: 26.9458, Val Loss: 12.6130\n",
      "Epoch 39/50, Train Loss: 26.9747, Val Loss: 13.2426\n",
      "Epoch 40/50, Train Loss: 27.4924, Val Loss: 12.6117\n",
      "Epoch 41/50, Train Loss: 27.3911, Val Loss: 12.5792\n",
      "Epoch 42/50, Train Loss: 26.9306, Val Loss: 12.3707\n",
      "Epoch 43/50, Train Loss: 26.6561, Val Loss: 12.1871\n",
      "Epoch 44/50, Train Loss: 27.1895, Val Loss: 12.3447\n",
      "Epoch 45/50, Train Loss: 26.8144, Val Loss: 12.4956\n",
      "Epoch 46/50, Train Loss: 26.6634, Val Loss: 12.5469\n",
      "Epoch 47/50, Train Loss: 26.9012, Val Loss: 12.4373\n",
      "Epoch 48/50, Train Loss: 27.1544, Val Loss: 12.5997\n",
      "Epoch 49/50, Train Loss: 27.1443, Val Loss: 12.3725\n",
      "Epoch 50/50, Train Loss: 26.5880, Val Loss: 12.3841\n"
     ]
    }
   ],
   "source": [
    "from tqdm import tqdm\n",
    "import numpy as np\n",
    "\n",
    "# Train-validation split\n",
    "# train_data, val_data = melted_3dtensor[:3000], melted_3dtensor[3000:]\n",
    "# train_labels, val_labels = label_tensor[:3000], label_tensor[3000:]\n",
    "\n",
    "# Training parameters\n",
    "num_epochs = 50\n",
    "batch_size = 32\n",
    "train_losses, val_losses = [], []\n",
    "\n",
    "# Training loop\n",
    "for epoch in range(num_epochs):\n",
    "    attention_model.train()\n",
    "    train_loss = 0.0\n",
    "\n",
    "    # Shuffle training data\n",
    "    permutation = torch.randperm(train_data.size(0))\n",
    "    train_data = train_data[permutation]\n",
    "    train_labels = train_labels[permutation]\n",
    "\n",
    "    for i in range(0, train_data.size(0), batch_size):\n",
    "        # Mini-batch selection\n",
    "        batch_data = train_data[i:i + batch_size]\n",
    "        batch_labels = train_labels[i:i + batch_size]\n",
    "\n",
    "        # Forward pass\n",
    "        outputs = attention_model(batch_data)\n",
    "        loss = criterion(outputs, batch_labels)\n",
    "\n",
    "        # Backward pass and optimization\n",
    "        optimizer.zero_grad()\n",
    "        loss.backward()\n",
    "        optimizer.step()\n",
    "\n",
    "        train_loss += loss.item()\n",
    "\n",
    "    # Validation phase\n",
    "    attention_model.eval()\n",
    "    val_loss = 0.0\n",
    "    with torch.no_grad():\n",
    "        for i in range(0, val_data.size(0), batch_size):\n",
    "            batch_data = val_data[i:i + batch_size]\n",
    "            batch_labels = val_labels[i:i + batch_size]\n",
    "            outputs = attention_model(batch_data)\n",
    "            loss = criterion(outputs, batch_labels)\n",
    "            val_loss += loss.item()\n",
    "\n",
    "    # Record losses\n",
    "    train_losses.append(train_loss / len(train_data))\n",
    "    val_losses.append(val_loss / len(val_data))\n",
    "\n",
    "    # Display progress\n",
    "    print(f\"Epoch {epoch + 1}/{num_epochs}, Train Loss: {train_loss:.4f}, Val Loss: {val_loss:.4f}\")\n"
   ]
  },
  {
   "cell_type": "code",
   "execution_count": 26,
   "metadata": {},
   "outputs": [
    {
     "name": "stdout",
     "output_type": "stream",
     "text": [
      "Test Loss: 10.4992\n",
      "Test Accuracy: 86.38%\n"
     ]
    }
   ],
   "source": [
    "# Test phase\n",
    "# test_data, test_labels = melted_3dtensor[3500:], label_tensor[3500:]\n",
    "attention_model.eval()\n",
    "test_loss = 0.0\n",
    "correct = 0\n",
    "total = 0\n",
    "\n",
    "with torch.no_grad():\n",
    "    for i in range(0, test_data.size(0), batch_size):\n",
    "        batch_data = test_data[i:i + batch_size]\n",
    "        batch_labels = test_labels[i:i + batch_size]\n",
    "        outputs = attention_model(batch_data)\n",
    "        loss = criterion(outputs, batch_labels)\n",
    "        test_loss += loss.item()\n",
    "\n",
    "        # Calculate accuracy\n",
    "        _, predicted = torch.max(outputs, dim=1)\n",
    "        correct += (predicted == batch_labels).sum().item()\n",
    "        total += batch_labels.size(0)\n",
    "\n",
    "print(f\"Test Loss: {test_loss:.4f}\")\n",
    "print(f\"Test Accuracy: {100 * correct / total:.2f}%\")\n"
   ]
  },
  {
   "cell_type": "code",
   "execution_count": 27,
   "metadata": {},
   "outputs": [
    {
     "data": {
      "image/png": "[encoded data removed]",
      "text/plain": [
       "<Figure size 640x480 with 1 Axes>"
      ]
     },
     "metadata": {},
     "output_type": "display_data"
    }
   ],
   "source": [
    "import matplotlib.pyplot as plt\n",
    "\n",
    "plt.plot(train_losses, label=\"Train Loss\")\n",
    "plt.plot(val_losses, label=\"Validation Loss\")\n",
    "plt.xlabel(\"Epochs\")\n",
    "plt.ylabel(\"Loss\")\n",
    "plt.legend()\n",
    "plt.title(\"Loss Convergence\")\n",
    "plt.show()\n"
   ]
  },
  {
   "cell_type": "code",
   "execution_count": null,
   "metadata": {},
   "outputs": [],
   "source": []
  },
  {
   "cell_type": "code",
   "execution_count": null,
   "metadata": {},
   "outputs": [],
   "source": []
  }
 ],
 "metadata": {
  "kernelspec": {
   "display_name": "Python 3",
   "language": "python",
   "name": "python3"
  },
  "language_info": {
   "codemirror_mode": {
    "name": "ipython",
    "version": 3
   },
   "file_extension": ".py",
   "mimetype": "text/x-python",
   "name": "python",
   "nbconvert_exporter": "python",
   "pygments_lexer": "ipython3",
   "version": "3.12.7"
  }
 },
 "nbformat": 4,
 "nbformat_minor": 2
}
