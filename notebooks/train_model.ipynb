{
 "cells": [
  {
   "cell_type": "code",
   "execution_count": null,
   "metadata": {},
   "outputs": [
    {
     "name": "stderr",
     "output_type": "stream",
     "text": [
      "c:\\Users\\hassg00\\AppData\\Local\\Programs\\Python\\Python312\\Lib\\site-packages\\tqdm\\auto.py:21: TqdmWarning: IProgress not found. Please update jupyter and ipywidgets. See https://ipywidgets.readthedocs.io/en/stable/user_install.html\n",
      "  from .autonotebook import tqdm as notebook_tqdm\n",
      "2024-12-11 15:17:01,908\tINFO util.py:154 -- Missing packages: ['ipywidgets']. Run `pip install -U ipywidgets`, then restart the notebook server for rich notebook output.\n",
      "2024-12-11 15:17:02,284\tINFO util.py:154 -- Missing packages: ['ipywidgets']. Run `pip install -U ipywidgets`, then restart the notebook server for rich notebook output.\n"
     ]
    }
   ],
   "source": [
    "import sys\n",
    "sys.path.append(\"./..\")\n",
    "\n",
    "import tsdb\n",
    "import pandas as pd\n",
    "import numpy as np\n",
    "import torch\n",
    "from sklearn.model_selection import train_test_split\n",
    "from datetime import datetime\n",
    "from loguru import logger\n",
    "\n",
    "from src.settings import projectsettings\n",
    "from src.data.datatool import DataProcessor\n",
    "from src.datastreamers import BaseDatastreamer, BaseDataset\n",
    "from src.train import trainloop\n",
    "from src.models import AttentionModel\n",
    "from src.metrics import BinaryAccuracy, Recall, Precision, F1Score, Accuracy\n",
    "\n",
    "pd.set_option('display.max_rows', 100)\n",
    "pd.set_option('display.max_columns', None)\n"
   ]
  },
  {
   "cell_type": "markdown",
   "metadata": {},
   "source": [
    "## Data voorbereiden"
   ]
  },
  {
   "cell_type": "code",
   "execution_count": 2,
   "metadata": {},
   "outputs": [
    {
     "name": "stderr",
     "output_type": "stream",
     "text": [
      "2024-12-11 15:17:05 [INFO]: You're using dataset physionet_2012, please cite it properly in your work. You can find its reference information at the below link: \n",
      "https://github.com/WenjieDu/TSDB/tree/main/dataset_profiles/physionet_2012\n",
      "2024-12-11 15:17:05 [INFO]: Dataset physionet_2012 has already been downloaded. Processing directly...\n",
      "2024-12-11 15:17:05 [INFO]: Dataset physionet_2012 has already been cached. Loading from cache directly...\n",
      "2024-12-11 15:17:06 [INFO]: Loaded successfully!\n"
     ]
    },
    {
     "name": "stdout",
     "output_type": "stream",
     "text": [
      "dict_keys(['set-a', 'set-b', 'set-c', 'outcomes-a', 'outcomes-b', 'outcomes-c', 'static_features'])\n",
      "max_wanted_len is langer dan de de aantal timestamps in de data,namelijk: 5000. data heeft max van: 631\n",
      "\n",
      "      Shape van data-tensor torch.Size([3997, 631, 4]) \n",
      "      Aantal cases zijn: 3997\n",
      "      Aantal tijdsobservatie per cases zijn: 631 (NULL wordt gepad)\n",
      "      De meet waarde over de tijd zijn: tijdsmoment, event, waarde\n",
      "\n"
     ]
    }
   ],
   "source": [
    "dataset = 'physionet_2012'\n",
    "data = tsdb.load(dataset)\n",
    "config = {}\n",
    "\n",
    "print(data.keys())\n",
    "\n",
    "df_a  = pd.DataFrame(data['set-a'])\n",
    "df_outcomes_a  = pd.DataFrame(data['outcomes-a']).reset_index()\n",
    "df_static_features  = pd.DataFrame(data['static_features'])\n",
    "\n",
    "id = \"RecordID\"\n",
    "time = \"Time\"\n",
    "target = \"In-hospital_death\"\n",
    "global_features = list(df_static_features.iloc[:,0])\n",
    "\n",
    "\n",
    "processor = DataProcessor(\n",
    "    df=df_a,\n",
    "    df_label=df_outcomes_a,  \n",
    "    id_col=id, \n",
    "    time_col=time,\n",
    "    taget_name=target,\n",
    "    global_features=global_features,\n",
    "    cols_exclude_z_norm=[id, time],\n",
    "    max_wanted_len=5000\n",
    ")\n",
    "\n",
    "\n",
    "d3tensor, label_tensor = processor.get_data()\n",
    "\n",
    "print(f\"\"\"\n",
    "      Shape van data-tensor {d3tensor.shape} \n",
    "      Aantal cases zijn: {d3tensor.shape[0]}\n",
    "      Aantal tijdsobservatie per cases zijn: {d3tensor.shape[1]} (NULL wordt gepad)\n",
    "      De meet waarde over de tijd zijn: tijdsmoment, event, waarde\n",
    "\"\"\")"
   ]
  },
  {
   "cell_type": "code",
   "execution_count": 3,
   "metadata": {},
   "outputs": [
    {
     "name": "stdout",
     "output_type": "stream",
     "text": [
      "torch.Size([3997, 631, 4]) torch.Size([3997, 1])\n",
      "torch.Size([3997, 631, 4]) torch.Size([3997, 1])\n",
      "torch.float32 torch.float32\n"
     ]
    },
    {
     "data": {
      "text/plain": [
       "tensor(49)"
      ]
     },
     "execution_count": 3,
     "metadata": {},
     "output_type": "execute_result"
    }
   ],
   "source": [
    "# melted_3dtensor = melted_3dtensor.float()\n",
    "# label_tensor = label_tensor.long()\n",
    "label_tensor = label_tensor.unsqueeze(1).float()\n",
    "\n",
    "print(d3tensor.size(), label_tensor.size())\n",
    "print(d3tensor.shape, label_tensor.shape)\n",
    "print(d3tensor.dtype, label_tensor.dtype)\n",
    "\n",
    "config[\"categorical_size\"] = d3tensor[:,:,1].long().max() + 1\n",
    "\n",
    "config[\"categorical_size\"]"
   ]
  },
  {
   "cell_type": "code",
   "execution_count": null,
   "metadata": {},
   "outputs": [
    {
     "name": "stdout",
     "output_type": "stream",
     "text": [
      "Training set size: 3197\n",
      "Validation set size: 800\n"
     ]
    }
   ],
   "source": [
    "config[\"batchsize\"] = 32\n",
    "\n",
    "# Split the dataset into train, validation, and test sets\n",
    "train_data, val_data, train_labels, val_labels = train_test_split(\n",
    "    d3tensor, label_tensor, test_size=0.2, random_state=42\n",
    ")\n",
    "\n",
    "# # Put data in streamer:\n",
    "# test_streamer = BaseDatastreamer(dataset=BaseDataset(test_data, test_labels), batchsize=config[\"batchsize\"])\n",
    "\n",
    "# # Split the train_data further into training and validation sets\n",
    "# train_data, val_data, train_labels, val_labels = train_test_split(\n",
    "#     train_data, train_labels, test_size=0.3, random_state=42\n",
    "# )\n",
    "\n",
    "# Put data in streamer:\n",
    "train_streamer = BaseDatastreamer(dataset=BaseDataset(train_data, train_labels), batchsize=config[\"batchsize\"])\n",
    "validation_streamer = BaseDatastreamer(dataset=BaseDataset(val_data, val_labels), batchsize=config[\"batchsize\"])\n",
    "\n",
    "# Verify the split\n",
    "print(f\"Training set size: {train_data.shape[0]}\")\n",
    "print(f\"Validation set size: {val_data.shape[0]}\")\n",
    "# print(f\"Test set size: {test_data.shape[0]}\")\n",
    "\n",
    "x, y = next(train_streamer.stream())\n",
    "train_streamer.index = 0\n",
    "\n",
    "print(x.shape, y.shape)\n",
    "print(x.dtype, y.dtype)"
   ]
  },
  {
   "cell_type": "markdown",
   "metadata": {},
   "source": [
    "## Algoritme\n",
    "We hebben nu melted_3dtensor en label_tensor als input en labels"
   ]
  },
  {
   "cell_type": "code",
   "execution_count": 6,
   "metadata": {},
   "outputs": [],
   "source": [
    "# Hyperparameters\n",
    "config[\"n_feat\"] = x.shape[2]\n",
    "input_dim = config[\"n_feat\"]  # Number of features in the tensor\n",
    "hidden_dim = 64                       # Hidden layer size\n",
    "output_dim = 1 #len(torch.unique(label_tensor))  # Number of output classes\n",
    "config[\"epochs\"] = 3\n",
    "config[\"embedding_dim\"] = 4\n",
    "_ , config[\"n_window\"], config[\"n_feat\"] = x.shape\n",
    "config[\"train_steps\"] = len(train_streamer)\n",
    "config[\"num_heads\"] = 1\n",
    "config[\"dropout\"] = 0.05"
   ]
  },
  {
   "cell_type": "code",
   "execution_count": null,
   "metadata": {},
   "outputs": [
    {
     "name": "stderr",
     "output_type": "stream",
     "text": [
      "\u001b[32m2024-12-11 15:24:49.868\u001b[0m | \u001b[1mINFO    \u001b[0m | \u001b[36m__main__\u001b[0m:\u001b[36mdir_add_timestamp\u001b[0m:\u001b[36m187\u001b[0m - \u001b[1mLogging to C:\\Users\\hassg00\\Documents\\ruwe_data_snel_inzicht\\results\\log\\20241211-1524test_model_attention\u001b[0m\n",
      "  0%|\u001b[38;2;30;71;6m          \u001b[0m| 0/3 [00:00<?, ?it/s]\u001b[32m2024-12-11 15:25:08.236\u001b[0m | \u001b[1mINFO    \u001b[0m | \u001b[36m__main__\u001b[0m:\u001b[36mtrainloop\u001b[0m:\u001b[36m166\u001b[0m - \u001b[1mEpoch 0 train 80.2187 test 86.4583 metric ['0.1354', '1.0000', '0.1354', '0.2354']\u001b[0m\n",
      " 33%|\u001b[38;2;30;71;6m███▎      \u001b[0m| 1/3 [00:18<00:36, 18.37s/it]\u001b[32m2024-12-11 15:25:27.994\u001b[0m | \u001b[1mINFO    \u001b[0m | \u001b[36m__main__\u001b[0m:\u001b[36mtrainloop\u001b[0m:\u001b[36m166\u001b[0m - \u001b[1mEpoch 1 train 82.2729 test 86.4583 metric ['0.1354', '1.0000', '0.1354', '0.2337']\u001b[0m\n",
      " 67%|\u001b[38;2;30;71;6m██████▋   \u001b[0m| 2/3 [00:38<00:19, 19.18s/it]\u001b[32m2024-12-11 15:25:44.335\u001b[0m | \u001b[1mINFO    \u001b[0m | \u001b[36m__main__\u001b[0m:\u001b[36mtrainloop\u001b[0m:\u001b[36m166\u001b[0m - \u001b[1mEpoch 2 train 82.0454 test 86.4583 metric ['0.1354', 'nan', '0.1354', 'nan']\u001b[0m\n",
      "100%|\u001b[38;2;30;71;6m██████████\u001b[0m| 3/3 [00:54<00:00, 18.15s/it]\n",
      "\u001b[32m2024-12-11 15:25:44.350\u001b[0m | \u001b[1mINFO    \u001b[0m | \u001b[36m__main__\u001b[0m:\u001b[36m<module>\u001b[0m:\u001b[36m23\u001b[0m - \u001b[1msave model to C:\\Users\\hassg00\\Documents\\ruwe_data_snel_inzicht\\results\\model\\20241211-152544test_model_attention\u001b[0m\n"
     ]
    }
   ],
   "source": [
    "# Create the AttentionModel\n",
    "model = AttentionModel(input_dim, hidden_dim, output_dim)\n",
    "model(x).shape\n",
    "\n",
    "logger.add(projectsettings.logger_dir / \"01.log\")\n",
    "\n",
    "# train model\n",
    "trainedmodel, train_losses, val_losses = trainloop(\n",
    "    epochs=config[\"epochs\"],\n",
    "    model=model,  # type: ignore\n",
    "    optimizer=torch.optim.Adam,\n",
    "    learning_rate=1e-3,\n",
    "    loss_fn=nn.BCELoss(), # nn.BCEWithLogitsLoss(), # nn.CrossEntropyLoss(), nn.BCELoss()\n",
    "    metrics=[BinaryAccuracy(), Recall(), Precision(), F1Score()],\n",
    "    config_dict=config,\n",
    "    train_dataloader=train_streamer.stream(),\n",
    "    test_dataloader=validation_streamer.stream(),\n",
    "    log_dir=projectsettings.logger_dir,\n",
    "    train_steps=len(train_streamer),\n",
    "    eval_steps=len(validation_streamer),\n",
    "    patience = 6 ,\n",
    "    factor = 0.5,\n",
    "    return_losses=True,\n",
    ")\n",
    "\n",
    "timestamp = datetime.now().strftime(\"%Y%m%d-%H%M%S\")\n",
    "path = projectsettings.model_dir / (timestamp + model.name)\n",
    "logger.info(f\"save model to {path}\")\n",
    "torch.save(trainedmodel, path)"
   ]
  },
  {
   "cell_type": "code",
   "execution_count": 18,
   "metadata": {},
   "outputs": [
    {
     "data": {
      "image/png": "[encoded data removed]",
      "text/plain": [
       "<Figure size 640x480 with 1 Axes>"
      ]
     },
     "metadata": {},
     "output_type": "display_data"
    }
   ],
   "source": [
    "import matplotlib.pyplot as plt\n",
    "\n",
    "plt.plot(train_losses, label=\"Train Loss\")\n",
    "plt.plot(val_losses, label=\"Validation Loss\")\n",
    "plt.xlabel(\"Epochs\")\n",
    "plt.ylabel(\"Loss\")\n",
    "plt.legend()\n",
    "plt.title(\"Loss Convergence\")\n",
    "plt.show()\n"
   ]
  },
  {
   "cell_type": "code",
   "execution_count": null,
   "metadata": {},
   "outputs": [],
   "source": []
  },
  {
   "cell_type": "code",
   "execution_count": null,
   "metadata": {},
   "outputs": [],
   "source": []
  }
 ],
 "metadata": {
  "kernelspec": {
   "display_name": "Python 3",
   "language": "python",
   "name": "python3"
  },
  "language_info": {
   "codemirror_mode": {
    "name": "ipython",
    "version": 3
   },
   "file_extension": ".py",
   "mimetype": "text/x-python",
   "name": "python",
   "nbconvert_exporter": "python",
   "pygments_lexer": "ipython3",
   "version": "3.12.7"
  }
 },
 "nbformat": 4,
 "nbformat_minor": 2
}
